{
 "cells": [
  {
   "cell_type": "code",
   "execution_count": 1,
   "metadata": {},
   "outputs": [],
   "source": [
    "%load_ext autoreload\n",
    "%autoreload 2\n",
    "%matplotlib inline\n",
    "\n",
    "import pandas as pd\n",
    "import numpy as np\n",
    "import matplotlib.pyplot as plt\n",
    "import dill \n",
    "import sys\n",
    "sys.path.append(\"../_dat/\")\n",
    "sys.path.append(\"../_src\")\n",
    "# dataset\n",
    "import electronics\n",
    "import utils as utils\n",
    "from infinite_mixture_unigram import infinite_mixture_unigram \n",
    "\n",
    "from sklearn.feature_extraction.text import CountVectorizer\n",
    "from sklearn.decomposition import LatentDirichletAllocation"
   ]
  },
  {
   "cell_type": "markdown",
   "metadata": {},
   "source": [
    "# test electronics"
   ]
  },
  {
   "cell_type": "code",
   "execution_count": 3,
   "metadata": {},
   "outputs": [],
   "source": [
    "toy_dataset = electronics.load_clean_data()"
   ]
  },
  {
   "cell_type": "code",
   "execution_count": 4,
   "metadata": {},
   "outputs": [
    {
     "data": {
      "text/plain": [
       "Index(['event_time', 'order_id', 'product_id', 'category_id', 'category_code',\n",
       "       'brand', 'price', 'user_id'],\n",
       "      dtype='object')"
      ]
     },
     "execution_count": 4,
     "metadata": {},
     "output_type": "execute_result"
    }
   ],
   "source": [
    "toy_dataset.columns"
   ]
  },
  {
   "cell_type": "code",
   "execution_count": 8,
   "metadata": {},
   "outputs": [],
   "source": [
    "toy_data = toy_dataset.loc[:,[\"event_time\",\"category_code\"]]\n",
    "toy_data = toy_dataset.loc[:,[\"brand\",\"category_code\"]]"
   ]
  },
  {
   "cell_type": "code",
   "execution_count": 9,
   "metadata": {},
   "outputs": [
    {
     "data": {
      "text/plain": [
       "867"
      ]
     },
     "execution_count": 9,
     "metadata": {},
     "output_type": "execute_result"
    }
   ],
   "source": [
    "toy_data[\"brand\"].nunique()"
   ]
  },
  {
   "cell_type": "code",
   "execution_count": 10,
   "metadata": {},
   "outputs": [
    {
     "data": {
      "text/plain": [
       "2018"
      ]
     },
     "execution_count": 10,
     "metadata": {},
     "output_type": "execute_result"
    }
   ],
   "source": [
    "len(toy_data.groupby([\"brand\",\"category_code\"]).count())"
   ]
  },
  {
   "cell_type": "code",
   "execution_count": 11,
   "metadata": {
    "scrolled": true
   },
   "outputs": [
    {
     "data": {
      "text/plain": [
       "UNKNOWN                        334\n",
       "electronics.smartphone          85\n",
       "electronics.audio.headphone     42\n",
       "furniture.kitchen.table         34\n",
       "appliances.kitchen.kettle       32\n",
       "                              ... \n",
       "computers.desktop                1\n",
       "apparel.shirt                    1\n",
       "medicine.tools.tonometer         1\n",
       "auto.accessories.radar           1\n",
       "electronics.audio.acoustic       1\n",
       "Name: category_code, Length: 62, dtype: int64"
      ]
     },
     "execution_count": 11,
     "metadata": {},
     "output_type": "execute_result"
    }
   ],
   "source": [
    "toy_data.reset_index().loc[:1000][\"category_code\"].value_counts()\n"
   ]
  },
  {
   "cell_type": "code",
   "execution_count": 12,
   "metadata": {},
   "outputs": [
    {
     "data": {
      "text/plain": [
       "index            562823\n",
       "brand               867\n",
       "category_code       124\n",
       "dtype: int64"
      ]
     },
     "execution_count": 12,
     "metadata": {},
     "output_type": "execute_result"
    }
   ],
   "source": [
    "toy_data.reset_index().loc[:].nunique()"
   ]
  },
  {
   "cell_type": "code",
   "execution_count": 13,
   "metadata": {},
   "outputs": [
    {
     "name": "stdout",
     "output_type": "stream",
     "text": [
      "                 event_time             order_id           product_id  \\\n",
      "56708   2020-01-05 04:01:46  2348708875558978111  2273948282625458240   \n",
      "68120   2020-01-05 04:06:18  2348710347105370326  1515966223509088613   \n",
      "64028   2020-01-05 04:09:00  2348709909622685923  1515966223509127621   \n",
      "62027   2020-01-05 04:23:37  2348709663819694279  1515966223509283038   \n",
      "68583   2020-01-05 04:35:21  2348710405431361995  1515966223509129592   \n",
      "...                     ...                  ...                  ...   \n",
      "2633516 2020-11-21 10:10:01  2388440981134693942  1515966223526602848   \n",
      "2633517 2020-11-21 10:10:13  2388440981134693943  1515966223509089282   \n",
      "2633518 2020-11-21 10:10:30  2388440981134693944  1515966223509089917   \n",
      "2633519 2020-11-21 10:10:30  2388440981134693944  2273948184839454837   \n",
      "2633520 2020-11-21 10:10:30  2388440981134693944  1515966223509127566   \n",
      "\n",
      "          category_id                category_code     brand   price  \\\n",
      "56708    2.268105e+18                      UNKNOWN      none    2.29   \n",
      "68120    2.268105e+18  electronics.audio.headphone     apple  203.68   \n",
      "64028    2.268105e+18           computers.notebook  microlab   27.75   \n",
      "62027    2.268105e+18                      UNKNOWN  scarlett   23.13   \n",
      "68583    2.268105e+18     construction.tools.screw   samsung   11.55   \n",
      "...               ...                          ...       ...     ...   \n",
      "2633516  2.268105e+18       electronics.smartphone      oppo  138.87   \n",
      "2633517  2.268105e+18       electronics.smartphone     apple  418.96   \n",
      "2633518  2.268105e+18   appliances.personal.scales     vitek   12.48   \n",
      "2633519  2.268105e+18                      UNKNOWN  moulinex   41.64   \n",
      "2633520  2.268105e+18   appliances.kitchen.blender   redmond   53.22   \n",
      "\n",
      "              user_id  \n",
      "56708    1.515916e+18  \n",
      "68120    1.515916e+18  \n",
      "64028    1.515916e+18  \n",
      "62027    1.515916e+18  \n",
      "68583    1.515916e+18  \n",
      "...               ...  \n",
      "2633516  1.515916e+18  \n",
      "2633517  1.515916e+18  \n",
      "2633518  1.515916e+18  \n",
      "2633519  1.515916e+18  \n",
      "2633520  1.515916e+18  \n",
      "\n",
      "[562823 rows x 8 columns]\n",
      "Index(['event_time', 'order_id', 'product_id', 'category_id', 'category_code',\n",
      "       'brand', 'price', 'user_id'],\n",
      "      dtype='object')\n"
     ]
    }
   ],
   "source": [
    "c_ind=[\"brand\",\"category_code\"]\n",
    "a=utils.prepare_event_matrix(toy_dataset,c_ind)"
   ]
  },
  {
   "cell_type": "code",
   "execution_count": 14,
   "metadata": {},
   "outputs": [],
   "source": [
    "a=a[c_ind]"
   ]
  },
  {
   "cell_type": "code",
   "execution_count": 15,
   "metadata": {},
   "outputs": [
    {
     "name": "stdout",
     "output_type": "stream",
     "text": [
      "            brand                category_code\n",
      "56708        none                      UNKNOWN\n",
      "68120       apple  electronics.audio.headphone\n",
      "64028    microlab           computers.notebook\n",
      "62027    scarlett                      UNKNOWN\n",
      "68583     samsung     construction.tools.screw\n",
      "...           ...                          ...\n",
      "2633516      oppo       electronics.smartphone\n",
      "2633517     apple       electronics.smartphone\n",
      "2633518     vitek   appliances.personal.scales\n",
      "2633519  moulinex                      UNKNOWN\n",
      "2633520   redmond   appliances.kitchen.blender\n",
      "\n",
      "[562823 rows x 2 columns]\n",
      "Index(['brand', 'category_code'], dtype='object')\n"
     ]
    }
   ],
   "source": [
    "matrix_df = utils.prepare_event_matrix(\n",
    "        toy_data,\n",
    "        c_ind,\n",
    "#         outdir=outputdir,\n",
    "#         save_encoders=True,\n",
    "    )"
   ]
  },
  {
   "cell_type": "code",
   "execution_count": 16,
   "metadata": {},
   "outputs": [
    {
     "data": {
      "text/plain": [
       "array([  0,  82,  59,  74,  34,   1,  89,  31,  26,  64,  88, 120,  16,\n",
       "       100, 101,  58,  18,  63,  28,  93,  62,  14,  27,  47,  33,  99,\n",
       "        98,  48,  49,  37,  90,  83,  24,  23,  91,  30,  55, 103,  61,\n",
       "       121,  38, 102,  21,  25,  65,   4,  10,  20,  15,  19,  32, 122,\n",
       "        45, 113,  29,  44,   5,  36,  11,  35,  80, 112, 110,  17,  46,\n",
       "        12,  42,  50,  22,  56,  87,  57,  86,  94, 118,   8,   9,  96,\n",
       "        54,  92, 104,  97, 108,  40, 123,  39,  66,  60,  51,  13,  69,\n",
       "       114,  52,  79,  67,  95,  73,  81,  53, 106,  70,  84,  77,  68,\n",
       "         7,  85, 119, 107,   3, 105,  76,  41, 115,  43,   2,  75, 111,\n",
       "       116,  72,  71, 109, 117,  78,   6])"
      ]
     },
     "execution_count": 16,
     "metadata": {},
     "output_type": "execute_result"
    }
   ],
   "source": [
    "matrix_df[\"category_code\"].unique()"
   ]
  },
  {
   "cell_type": "code",
   "execution_count": 17,
   "metadata": {},
   "outputs": [
    {
     "data": {
      "text/plain": [
       "brand            867\n",
       "category_code    124\n",
       "dtype: int64"
      ]
     },
     "execution_count": 17,
     "metadata": {},
     "output_type": "execute_result"
    }
   ],
   "source": [
    "matrix_df.nunique()"
   ]
  },
  {
   "cell_type": "code",
   "execution_count": 18,
   "metadata": {},
   "outputs": [
    {
     "name": "stderr",
     "output_type": "stream",
     "text": [
      "bow: 100%|██████████| 867/867 [00:00<00:00, 2186.81it/s]\n"
     ]
    },
    {
     "name": "stdout",
     "output_type": "stream",
     "text": [
      "[[13115    44    25 ...     2   150     8]\n",
      " [  292     0     0 ...     0     0     0]\n",
      " [    1     0     0 ...     0     0     0]\n",
      " ...\n",
      " [    0     0     0 ...     0     0     0]\n",
      " [   21     0     0 ...     0     0     0]\n",
      " [   84     0     0 ...     0     0     0]]\n",
      "[557  44 503 685 676 758 454 655 575 170  92   0 243 807 373 141 717  21\n",
      " 761  32  71 129  62 395 601 798 356 783 821 123 544 844 304 756 606 444\n",
      " 787 363 525 697 664 618 366 208 641 585 704 486 616  85  20 793 337   1\n",
      " 589 351 209  39 531 789 667 104 354 612 206 394 171 222 322 461 229 244\n",
      " 375  42 190  99 280 249 451 594 809 275 739 505 305  80 538 796  86  43\n",
      " 644 816 522 233 840 635 562 693 264 143  51 806 861   8 678 393 325 504\n",
      " 242 116 539 595 491  45 162  75 493 214 383 122 309 487 448   9 326 811\n",
      " 160  13 743 415 217 523 434 553  36 396 474 331 372 547 744 550 469 292\n",
      " 572 831 640 235 767 350 250 308 633 192  40 320 851 297 646  69 781 336\n",
      " 600 684 427 485  48 471 220 569 252 456  76 419  96 293 465 180  33 639\n",
      " 227 379 121 577 435 137 720 707 775 411 829 615 792  63 238 864 801 124\n",
      " 624 545 231 359 334  10 653 380 352 530 694 517 753 317 400 524 420 567\n",
      " 582 173 316  38 315 477 578 579 496 468 185 410 527 513 730 721  54 853\n",
      " 226 112 368 441 526 108  61 387 462 675 841 728 425 558 298 770 822 210\n",
      " 392 654 201 247 813 240 628 340 481 663 769 443 617 732 288 300 390 414\n",
      "  90 784 285 149 335 357 755 596 866 370 307 703 470 808 515 215 825 397\n",
      " 355 258 677 204 311 118 449   5 388 715 763 152 752 603 659 835 120 177\n",
      " 768 713 127  46 688 409 632 329 347 150 287 176 818 167 169 199 838  83\n",
      " 859 364 710  65 385 620 537 295 455 814 159  35 771 521 241 360 542 766\n",
      " 422 622  64 450  82 284 384  73 480 669 657  22 714 546 506 148 248 686\n",
      "   7 779 748 452  34 479 645 407 294 689 563 494 623 590 113 328 278 708\n",
      " 111 472 652 552 283 299 256 692 365  67 701 133 323  60   3 151  66 439\n",
      " 803  14 845 648 857  55 200 535 858 502 436 564 586 846 346 706 614 399\n",
      " 672 570 144 573 833 712 339 681 800 361 815 327 391 132 661 102 376 637\n",
      " 378 597 318 682 232 324 153 836 764 273 246  29  74 175 139 805 716 843\n",
      " 576 499 353 827 674 216  93 464 500 592 107 828 671 847 749 196 110 417\n",
      " 381 484 820 172  27 281 269 837  19 832 863 262  47 788 115 698 145 514\n",
      " 134 424 421 267 560 239  23 490  79 754 274 117   2 634 193 401 310 254\n",
      " 467  91 453 665 738 778 584 568 431 189 423 440 516 154  18  84 289 668\n",
      " 598 619 760 683 605 147 729 611 495 834 797 532  52  25 621 404 251  24\n",
      " 445 794 647 367 183 561 695 529 191 253 182 296 459 819 418 566  68 224\n",
      " 168 700  94 186 413 727 610 466 726 725  57 746 416 266  17 627 236 849\n",
      " 839 428 131 348 588 759 625 534 587 257  70  78 408 510 179 271 718 223\n",
      " 631 696 344 211 205 791 270 747 473 128 460 709 438 795  95 666 842  26\n",
      " 263 559 194 660 446 609 854 512 520 613 865 426 741 509  50 174 342 126\n",
      " 306 593 140 433 536 599 731 549  49 607 736 261 804  56 142 719 103 405\n",
      " 856  30 705 301 225 810 733 276 742  59  87 507 478 184 774 402 221 195\n",
      " 776 734  81 341 824 188 228 412 109 386 528 658  89  53 156 852 136 312\n",
      " 213 161 691 212 475 181 556  77 862 291 848 724 259 602 130 782 125 458\n",
      " 737 786 437 345 286 630 823 702 403 343 255 489 155 313 100 265 581 178\n",
      " 157 757 389 855 511 690 406 272 508 234 629 330 812 432 369 551 101 723\n",
      " 699 260 163 488 237 498  28 219   4 321 338  72 398 164 146  98 202 680\n",
      " 543 303 371 203 745 673 518 382 751 642 762 583 799 165 555 636 138  58\n",
      " 135 501 679 430 166 197 447 638 656 785 780 826 482 245 554 114 670 105\n",
      " 591 457 268 772 314 476  16 277 740 302 662 711 651 106  11 574 463 735\n",
      " 319 580 850 565 765 777 649 541 349 604 830 207  15 643 358 750 817 290\n",
      " 650  37 442 332  88 773 187 492 626 218 483  12   6 282  31 377 362 790\n",
      " 374 497 230 198 548 722 519 429 119 687  41 608 533 540 158 333 571 802\n",
      " 279  97 860]\n"
     ]
    }
   ],
   "source": [
    "matrix, tensor, vectorizer =utils.transform_event_tensor_to_document_count_vector(a,)"
   ]
  },
  {
   "cell_type": "code",
   "execution_count": 19,
   "metadata": {},
   "outputs": [],
   "source": [
    "mat_ = utils.transform_event_tensor_to_document(a,(a.max()+1).to_numpy(),\"./\",time_base=True)"
   ]
  },
  {
   "cell_type": "code",
   "execution_count": 20,
   "metadata": {},
   "outputs": [
    {
     "data": {
      "text/plain": [
       "(867, 124)"
      ]
     },
     "execution_count": 20,
     "metadata": {},
     "output_type": "execute_result"
    }
   ],
   "source": [
    "mat_.shape"
   ]
  },
  {
   "cell_type": "code",
   "execution_count": 21,
   "metadata": {},
   "outputs": [
    {
     "data": {
      "text/plain": [
       "(867, 124)"
      ]
     },
     "execution_count": 21,
     "metadata": {},
     "output_type": "execute_result"
    }
   ],
   "source": [
    "matrix.shape"
   ]
  },
  {
   "cell_type": "code",
   "execution_count": 22,
   "metadata": {},
   "outputs": [],
   "source": [
    "lda = LatentDirichletAllocation(\n",
    "        n_components=5,\n",
    "#         max_iter \n",
    "        random_state=0\n",
    "        )\n"
   ]
  },
  {
   "cell_type": "code",
   "execution_count": 23,
   "metadata": {},
   "outputs": [],
   "source": [
    "rr=lda.fit_transform(matrix)"
   ]
  },
  {
   "cell_type": "code",
   "execution_count": 24,
   "metadata": {},
   "outputs": [
    {
     "data": {
      "text/plain": [
       "(867, 5)"
      ]
     },
     "execution_count": 24,
     "metadata": {},
     "output_type": "execute_result"
    }
   ],
   "source": [
    "rr.shape"
   ]
  },
  {
   "cell_type": "code",
   "execution_count": 25,
   "metadata": {},
   "outputs": [
    {
     "data": {
      "text/plain": [
       "array([[0.29685149, 0.6280838 , 0.02504818, 0.025013  , 0.02500352],\n",
       "       [0.05012272, 0.79974271, 0.05010026, 0.05002699, 0.05000732],\n",
       "       [0.0071589 , 0.74130644, 0.23719599, 0.0071464 , 0.00719227],\n",
       "       ...,\n",
       "       [0.01542065, 0.93838673, 0.01541359, 0.01539232, 0.0153867 ],\n",
       "       [0.00103546, 0.00110602, 0.00103462, 0.00103192, 0.99579198],\n",
       "       [0.06683839, 0.73297317, 0.06680705, 0.06670447, 0.06667691]])"
      ]
     },
     "execution_count": 25,
     "metadata": {},
     "output_type": "execute_result"
    }
   ],
   "source": [
    "rr"
   ]
  },
  {
   "cell_type": "code",
   "execution_count": 26,
   "metadata": {},
   "outputs": [],
   "source": [
    "tt = lda.components_"
   ]
  },
  {
   "cell_type": "code",
   "execution_count": 27,
   "metadata": {},
   "outputs": [
    {
     "data": {
      "text/plain": [
       "(5, 124)"
      ]
     },
     "execution_count": 27,
     "metadata": {},
     "output_type": "execute_result"
    }
   ],
   "source": [
    "tt.shape"
   ]
  },
  {
   "cell_type": "code",
   "execution_count": 38,
   "metadata": {},
   "outputs": [],
   "source": [
    "path=\"../_out/electronics/infinite_unigram/test/result.dill\"\n",
    "reuslt, elapsed_time = dill.load(open(path,'rb'))"
   ]
  },
  {
   "cell_type": "code",
   "execution_count": 39,
   "metadata": {},
   "outputs": [],
   "source": [
    "topic_dist = reuslt.topic_dist\n",
    "components_ = reuslt.components_\n",
    "hist_k_num_all = reuslt.hist_k_num_all"
   ]
  },
  {
   "cell_type": "code",
   "execution_count": 40,
   "metadata": {},
   "outputs": [],
   "source": [
    "hist_k_num_all=hist_k_num_all.flatten()[:,np.newaxis]"
   ]
  },
  {
   "cell_type": "code",
   "execution_count": 41,
   "metadata": {},
   "outputs": [
    {
     "data": {
      "text/plain": [
       "[<matplotlib.lines.Line2D at 0x7fe9a77bcdc0>]"
      ]
     },
     "execution_count": 41,
     "metadata": {},
     "output_type": "execute_result"
    },
    {
     "data": {
      "image/png": "[encoded data removed]",
      "text/plain": [
       "<Figure size 432x288 with 1 Axes>"
      ]
     },
     "metadata": {
      "needs_background": "light"
     },
     "output_type": "display_data"
    }
   ],
   "source": [
    "plt.plot(hist_k_num_all)"
   ]
  },
  {
   "cell_type": "code",
   "execution_count": 34,
   "metadata": {},
   "outputs": [
    {
     "data": {
      "text/plain": [
       "[<matplotlib.lines.Line2D at 0x7fe9a7157610>]"
      ]
     },
     "execution_count": 34,
     "metadata": {},
     "output_type": "execute_result"
    },
    {
     "data": {
      "image/png": "[encoded data removed]",
      "text/plain": [
       "<Figure size 432x288 with 1 Axes>"
      ]
     },
     "metadata": {
      "needs_background": "light"
     },
     "output_type": "display_data"
    }
   ],
   "source": [
    "plt.plot(topic_dist)"
   ]
  },
  {
   "cell_type": "code",
   "execution_count": 35,
   "metadata": {},
   "outputs": [
    {
     "data": {
      "text/plain": [
       "array([0.00000000e+00, 5.82366037e-01, 3.86476743e-01, 2.34052269e-02,\n",
       "       4.47742896e-04, 3.65123671e-03, 8.31522521e-04, 1.41429899e-03,\n",
       "       3.71342323e-04, 5.25920227e-04, 4.01547200e-04, 8.88378762e-05,\n",
       "       8.88378762e-06, 8.88378762e-06, 1.77675752e-06])"
      ]
     },
     "execution_count": 35,
     "metadata": {},
     "output_type": "execute_result"
    }
   ],
   "source": [
    "topic_dist"
   ]
  },
  {
   "cell_type": "code",
   "execution_count": 36,
   "metadata": {},
   "outputs": [
    {
     "data": {
      "text/plain": [
       "(124, 15)"
      ]
     },
     "execution_count": 36,
     "metadata": {},
     "output_type": "execute_result"
    }
   ],
   "source": [
    "components_.shape"
   ]
  },
  {
   "cell_type": "code",
   "execution_count": 37,
   "metadata": {},
   "outputs": [
    {
     "data": {
      "text/plain": [
       "[<matplotlib.lines.Line2D at 0x7fe9abdc03d0>,\n",
       " <matplotlib.lines.Line2D at 0x7fe9abdc04c0>,\n",
       " <matplotlib.lines.Line2D at 0x7fe9abdc0580>,\n",
       " <matplotlib.lines.Line2D at 0x7fe9abdc0640>,\n",
       " <matplotlib.lines.Line2D at 0x7fe9abdc0700>,\n",
       " <matplotlib.lines.Line2D at 0x7fe9abdc07c0>,\n",
       " <matplotlib.lines.Line2D at 0x7fe9abdc0880>,\n",
       " <matplotlib.lines.Line2D at 0x7fe9abdc0940>,\n",
       " <matplotlib.lines.Line2D at 0x7fe9abdc0a00>,\n",
       " <matplotlib.lines.Line2D at 0x7fe9abdc0ac0>,\n",
       " <matplotlib.lines.Line2D at 0x7fe9a749a6d0>,\n",
       " <matplotlib.lines.Line2D at 0x7fe9abdc0c10>,\n",
       " <matplotlib.lines.Line2D at 0x7fe9abdc0cd0>,\n",
       " <matplotlib.lines.Line2D at 0x7fe9abdc0d90>,\n",
       " <matplotlib.lines.Line2D at 0x7fe9abdc0e50>]"
      ]
     },
     "execution_count": 37,
     "metadata": {},
     "output_type": "execute_result"
    },
    {
     "data": {
      "image/png": "[encoded data removed]",
      "text/plain": [
       "<Figure size 432x288 with 1 Axes>"
      ]
     },
     "metadata": {
      "needs_background": "light"
     },
     "output_type": "display_data"
    }
   ],
   "source": [
    "plt.plot(components_)"
   ]
  },
  {
   "cell_type": "code",
   "execution_count": null,
   "metadata": {},
   "outputs": [],
   "source": []
  },
  {
   "cell_type": "code",
   "execution_count": null,
   "metadata": {},
   "outputs": [],
   "source": []
  },
  {
   "cell_type": "code",
   "execution_count": null,
   "metadata": {},
   "outputs": [],
   "source": []
  },
  {
   "cell_type": "code",
   "execution_count": null,
   "metadata": {},
   "outputs": [],
   "source": []
  },
  {
   "cell_type": "code",
   "execution_count": null,
   "metadata": {},
   "outputs": [],
   "source": []
  },
  {
   "cell_type": "code",
   "execution_count": null,
   "metadata": {},
   "outputs": [],
   "source": []
  }
 ],
 "metadata": {
  "kernelspec": {
   "display_name": "wakavirtual1",
   "language": "python",
   "name": "wakavirtual1"
  },
  "language_info": {
   "codemirror_mode": {
    "name": "ipython",
    "version": 3
   },
   "file_extension": ".py",
   "mimetype": "text/x-python",
   "name": "python",
   "nbconvert_exporter": "python",
   "pygments_lexer": "ipython3",
   "version": "3.8.2"
  },
  "toc": {
   "base_numbering": 1,
   "nav_menu": {},
   "number_sections": true,
   "sideBar": true,
   "skip_h1_title": false,
   "title_cell": "Table of Contents",
   "title_sidebar": "Contents",
   "toc_cell": false,
   "toc_position": {},
   "toc_section_display": true,
   "toc_window_display": false
  }
 },
 "nbformat": 4,
 "nbformat_minor": 2
}
